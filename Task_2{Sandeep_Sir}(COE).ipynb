{
  "nbformat": 4,
  "nbformat_minor": 0,
  "metadata": {
    "colab": {
      "provenance": []
    },
    "kernelspec": {
      "name": "python3",
      "display_name": "Python 3"
    },
    "language_info": {
      "name": "python"
    }
  },
  "cells": [
    {
      "cell_type": "markdown",
      "source": [
        "# Designing Library Management System:\n",
        "\n"
      ],
      "metadata": {
        "id": "Kqq5Z-FfajCK"
      }
    },
    {
      "cell_type": "code",
      "execution_count": 1,
      "metadata": {
        "id": "eevfU9KaRpQ_"
      },
      "outputs": [],
      "source": [
        "class Book:\n",
        "    def __init__(self, title, author, isbn):\n",
        "        self.title = title\n",
        "        self.author = author\n",
        "        self.isbn = isbn\n",
        "        self.is_available = True\n",
        "\n",
        "    def __str__(self):\n",
        "        return f\"Title: {self.title}, Author: {self.author}, ISBN: {self.isbn}, Available: {self.is_available}\"\n",
        "\n",
        "    def check_out(self):\n",
        "        self.is_available = False\n",
        "\n",
        "    def return_book(self):\n",
        "        self.is_available = True\n",
        "\n",
        "class Member:\n",
        "    def __init__(self, name, member_id):\n",
        "        self.name = name\n",
        "        self.member_id = member_id\n",
        "        self.borrowed_books = []\n",
        "\n",
        "    def __str__(self):\n",
        "        borrowed_titles = ', '.join(book.title for book in self.borrowed_books)\n",
        "        return f\"Name: {self.name}, ID: {self.member_id}, Borrowed Books: {borrowed_titles}\"\n",
        "\n",
        "    def borrow_book(self, book):\n",
        "        if book.is_available:\n",
        "            book.check_out()\n",
        "            self.borrowed_books.append(book)\n",
        "            print(f\"{self.name} borrowed {book.title}\")\n",
        "        else:\n",
        "            print(f\"{book.title} is not available\")\n",
        "\n",
        "    def return_book(self, book):\n",
        "        if book in self.borrowed_books:\n",
        "            book.return_book()\n",
        "            self.borrowed_books.remove(book)\n",
        "            print(f\"{self.name} returned {book.title}\")\n",
        "        else:\n",
        "            print(f\"{self.name} does not have {book.title} borrowed\")\n",
        "\n",
        "class Library:\n",
        "    def __init__(self, name):\n",
        "        self.name = name\n",
        "        self.books = []\n",
        "        self.members = []\n",
        "\n",
        "    def add_book(self, book):\n",
        "        self.books.append(book)\n",
        "        print(f\"Added {book.title} to the library\")\n",
        "\n",
        "    def remove_book(self, book):\n",
        "        if book in self.books:\n",
        "            self.books.remove(book)\n",
        "            print(f\"Removed {book.title} from the library\")\n",
        "        else:\n",
        "            print(f\"{book.title} is not in the library\")\n",
        "\n",
        "    def register_member(self, member):\n",
        "        self.members.append(member)\n",
        "        print(f\"Registered member {member.name}\")\n",
        "\n",
        "    def find_book_by_title(self, title):\n",
        "        return [book for book in self.books if book.title == title]\n",
        "\n",
        "    def find_book_by_author(self, author):\n",
        "        return [book for book in self.books if book.author == author]\n",
        "\n",
        "    def display_available_books(self):\n",
        "        available_books = [book for book in self.books if book.is_available]\n",
        "        for book in available_books:\n",
        "            print(book)\n",
        "\n",
        "class Librarian(Member):\n",
        "    def add_book_to_library(self, library, book):\n",
        "        library.add_book(book)\n",
        "\n",
        "    def remove_book_from_library(self, library, book):\n",
        "        library.remove_book(book)\n",
        "\n",
        "class Admin(Librarian):\n",
        "    def view_all_members(self, library):\n",
        "        for member in library.members:\n",
        "            print(member)\n",
        "\n",
        "    def view_all_books(self, library):\n",
        "        for book in library.books:\n",
        "            print(book)\n",
        "\n"
      ]
    },
    {
      "cell_type": "markdown",
      "source": [
        "# Implementing the above code:"
      ],
      "metadata": {
        "id": "IOlepIDUU3lz"
      }
    },
    {
      "cell_type": "code",
      "source": [
        "if __name__ == \"__main__\":\n",
        "  library = Library(\"Poornima Library\") #Defining library as Poornima Library\n",
        " # Defining books:\n",
        "  book1 = Book(\"Python Programming\", \"Harivansh Sharma\", \"123\")\n",
        "  book2 = Book(\"Data Structures And Algorithm\", \"Bhanu Pratap\", \"321\")\n"
      ],
      "metadata": {
        "id": "LBUVgZDgWdHV"
      },
      "execution_count": 24,
      "outputs": []
    },
    {
      "cell_type": "code",
      "source": [
        "# Adding books to the library:\n",
        "library.add_book(book1)\n",
        "library.add_book(book2)\n"
      ],
      "metadata": {
        "colab": {
          "base_uri": "https://localhost:8080/"
        },
        "id": "donIcLcVWmeG",
        "outputId": "1fe880e6-9189-4a5b-84bf-fb79b6160a86"
      },
      "execution_count": 25,
      "outputs": [
        {
          "output_type": "stream",
          "name": "stdout",
          "text": [
            "Added Python Programming to the library\n",
            "Added Data Structures And Algorithm to the library\n"
          ]
        }
      ]
    },
    {
      "cell_type": "code",
      "source": [
        "# Registering members:\n",
        "member1 = Member(\"Divyanshu\", 1)\n",
        "member2 = Member(\"Laberann\", 2)\n",
        "library.register_member(member1)\n",
        "library.register_member(member2)\n"
      ],
      "metadata": {
        "colab": {
          "base_uri": "https://localhost:8080/"
        },
        "id": "-GPrsSWvWpS6",
        "outputId": "06d84d58-f13b-4bbf-e88d-7bce916d8936"
      },
      "execution_count": 26,
      "outputs": [
        {
          "output_type": "stream",
          "name": "stdout",
          "text": [
            "Registered member Divyanshu\n",
            "Registered member Laberann\n"
          ]
        }
      ]
    },
    {
      "cell_type": "code",
      "source": [
        "# Borrowing and returning books:\n",
        "member1.borrow_book(book1)\n",
        "member1.return_book(book1)\n"
      ],
      "metadata": {
        "colab": {
          "base_uri": "https://localhost:8080/"
        },
        "id": "Xa4HWP6LWtiT",
        "outputId": "1f188165-2e72-4d53-f15a-1dcd36f34964"
      },
      "execution_count": 27,
      "outputs": [
        {
          "output_type": "stream",
          "name": "stdout",
          "text": [
            "Divyanshu borrowed Python Programming\n",
            "Divyanshu returned Python Programming\n"
          ]
        }
      ]
    },
    {
      "cell_type": "code",
      "source": [
        "# Displaying available books in the library:\n",
        "print(\"Available books in the library:\")\n",
        "library.display_available_books()\n"
      ],
      "metadata": {
        "colab": {
          "base_uri": "https://localhost:8080/"
        },
        "id": "HCADHVjwWwNF",
        "outputId": "ee6aa7ac-20dd-4015-cb92-66959230de3b"
      },
      "execution_count": 28,
      "outputs": [
        {
          "output_type": "stream",
          "name": "stdout",
          "text": [
            "Available books in the library:\n",
            "Title: Python Programming, Author: Harivansh Sharma, ISBN: 123, Available: True\n",
            "Title: Data Structures And Algorithm, Author: Bhanu Pratap, ISBN: 321, Available: True\n"
          ]
        }
      ]
    },
    {
      "cell_type": "code",
      "source": [
        "#Librarian operations:\n",
        "librarian = Librarian(\"Santosh Kumar\", 3) #Adding librarian\n",
        "librarian.add_book_to_library(library, Book(\"Indistractable\", \"Sid Dauj\", \"456\")) #librarian adding book in the library\n",
        "librarian.remove_book_from_library(library, book2) #librarian removing book from the library\n"
      ],
      "metadata": {
        "colab": {
          "base_uri": "https://localhost:8080/"
        },
        "id": "pGfIYpsmWxPr",
        "outputId": "d69fa497-ecea-46c7-af52-fc670ca19ee3"
      },
      "execution_count": 29,
      "outputs": [
        {
          "output_type": "stream",
          "name": "stdout",
          "text": [
            "Added Indistractable to the library\n",
            "Removed Data Structures And Algorithm from the library\n"
          ]
        }
      ]
    },
    {
      "cell_type": "code",
      "source": [
        "#Admin operations:\n",
        "admin = Admin(\"Abhilasha Khandelwal\", 4) #drfining adim\n",
        "print(\"All members:\")\n",
        "admin.view_all_members(library)\n",
        "print(\"All books:\")\n",
        "admin.view_all_books(library)\n"
      ],
      "metadata": {
        "colab": {
          "base_uri": "https://localhost:8080/"
        },
        "id": "IZMVASBkW3qy",
        "outputId": "f6f5b10e-f1fd-44dd-d099-2cdb296557d8"
      },
      "execution_count": 30,
      "outputs": [
        {
          "output_type": "stream",
          "name": "stdout",
          "text": [
            "All members:\n",
            "Name: Divyanshu, ID: 1, Borrowed Books: \n",
            "Name: Laberann, ID: 2, Borrowed Books: \n",
            "All books:\n",
            "Title: Python Programming, Author: Harivansh Sharma, ISBN: 123, Available: True\n",
            "Title: Indistractable, Author: Sid Dauj, ISBN: 456, Available: True\n"
          ]
        }
      ]
    },
    {
      "cell_type": "code",
      "source": [],
      "metadata": {
        "id": "9_3VsQYvXvEy"
      },
      "execution_count": null,
      "outputs": []
    }
  ]
}